import time
import numpy as np
import scipy.stats as st
from matplotlib import pyplot

def pure_random_sampling(samples, x_min = -2, x_max = 1, y_min = -1.5, y_max = 1.5):
    
    real_samples = np.random.uniform(x_min, x_max, samples)
    imag_samples = np.random.uniform(y_min, y_max, samples)
    
    return real_samples, imag_samples

def latin_hypercube_sampling(samples, dimensions, x_min = -2, x_max = 1, y_min = -1.5, y_max = 1.5):
    
    cut_points = np.linspace(0, 1, samples + 1)
    margins = cut_points[:-1]

    real_samples = margins + np.random.rand(samples) * (1/samples)
    imag_samples = margins + np.random.rand(samples) * (1/samples)

    np.random.shuffle(imag_samples)

    real_samples = real_samples * (x_max - x_min) + x_min
    imag_samples = imag_samples * (y_max - y_min) + y_min
    
    return real_samples, imag_samples


def orthogonal_sampling(samples_per_dimension, x_min = -2, x_max = 1, y_min = -1.5, y_max = 1.5):

    sample_points = np.arange(0, samples_per_dimension)
    
    real_samples = np.zeros(samples_per_dimension**2)
    imag_samples = np.zeros(samples_per_dimension**2)
    
    for i in range(samples_per_dimension):
        np.random.shuffle(sample_points)
        for j in range(samples_per_dimension):
            idx = i * samples_per_dimension + j
            real_samples[idx] = sample_points[j] / samples_per_dimension + np.random.rand() / samples_per_dimension
            imag_samples[idx] = i / samples_per_dimension + np.random.rand() / samples_per_dimension
    
    np.random.shuffle(real_samples)
    np.random.shuffle(imag_samples)
    
    real_samples = real_samples * (x_max - x_min) + x_min
    imag_samples = imag_samples * (y_max - y_min) + y_min
    
    return real_samples, imag_samples
