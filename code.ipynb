import numpy as np
import scipy.stats as st
from matplotlib import pyplot

def mandelbrot(iters, samples, x_min = -2, x_max = 1, y_min = -1.5, y_max = 1.5):
    
    max_iter = iters
    
    width, height = 800, 800
    mandelbrot_set = np.zeros((height, width))

    inside_count = 0

    for i in range(int(samples)):
        real = np.random.uniform(x_min, x_max)
        imag = np.random.uniform(y_min, y_max)
        c = complex(real, imag)
        z = 0.0j
        for j in range(max_iter):
            z = z*z + c
            if (z.real*z.real + z.imag*z.imag) >= 4:
                break
        if j == max_iter - 1:
            inside_count += 1
            x_pixel = int((real - x_min) * width / (x_max - x_min))
            y_pixel = int((imag - y_min) * height / (y_max - y_min))
            mandelbrot_set[y_pixel, x_pixel] = 1
    area_estimate = (inside_count / samples) * (x_max - x_min) * (y_max - y_min)

    return mandelbrot_set, area_estimate

width, height = 800, 800
max_iter = 100

x_min, x_max = -2, 1
y_min, y_max = -1.5, 1.5

mandelbrot_set = np.zeros((height, width))

samples = 1000000

inside_count = 0

mandelbrot_set, mandelbrot_area = mandelbrot(max_iter, samples)

print(mandelbrot_area)

pyplot.imshow(mandelbrot_set, extent=(x_min, x_max, y_min, y_max), cmap="hot")
pyplot.colorbar()
pyplot.title("Mandelbrot Set")
pyplot.xlabel("Real")
pyplot.ylabel("Imaginary")
pyplot.savefig("fractal", dpi=300)








# problem 3

import time
import numpy as np
import scipy.stats as st
from matplotlib import pyplot

def pure_random_sampling(samples, x_min = -2, x_max = 1, y_min = -1.5, y_max = 1.5):
    
    real_samples = np.random.uniform(x_min, x_max, samples)
    imag_samples = np.random.uniform(y_min, y_max, samples)
    
    return real_samples, imag_samples


def latin_hypercube_sampling(samples, dimensions, x_min = -2, x_max = 1, y_min = -1.5, y_max = 1.5):
    
    cut_points = np.linspace(0, 1, samples + 1)
    margins = cut_points[:-1]

    real_samples = margins + np.random.rand(samples) * (1/samples)
    imag_samples = margins + np.random.rand(samples) * (1/samples)

    np.random.shuffle(imag_samples)

    real_samples = real_samples * (x_max - x_min) + x_min
    imag_samples = imag_samples * (y_max - y_min) + y_min
    
    return real_samples, imag_samples


def orthogonal_sampling(samples_per_dimension, x_min = -2, x_max = 1, y_min = -1.5, y_max = 1.5):

    sample_points = np.arange(0, samples_per_dimension)
    
    real_samples = np.zeros(samples_per_dimension**2)
    imag_samples = np.zeros(samples_per_dimension**2)
    
    for i in range(samples_per_dimension):
        np.random.shuffle(sample_points)
        for j in range(samples_per_dimension):
            idx = i * samples_per_dimension + j
            real_samples[idx] = sample_points[j] / samples_per_dimension + np.random.rand() / samples_per_dimension
            imag_samples[idx] = i / samples_per_dimension + np.random.rand() / samples_per_dimension
    
    np.random.shuffle(real_samples)
    np.random.shuffle(imag_samples)
    
    real_samples = real_samples * (x_max - x_min) + x_min
    imag_samples = imag_samples * (y_max - y_min) + y_min
    
    return real_samples, imag_samples

def mandelbrot_diff_sampling(iters, samples, real_samples, imag_samples, x_min = -2, x_max = 1, y_min = -1.5, y_max = 1.5):
    max_iter = iters
    width, height = 800, 800
    mandelbrot_set = np.zeros((height, width))

    cs = real_samples + 1j * imag_samples
    zs = np.zeros(samples, dtype=complex)

    inside = np.ones(samples, dtype=bool)

    for i in range(max_iter):
        zs = zs * zs + cs
        escape = np.abs(zs) >= 2.0
        zs[escape] = 0
        inside &= ~escape

    inside_count = np.sum(inside)

    x_pixels = np.clip(((real_samples - x_min) * width / (x_max - x_min)).astype(int), 0, width - 1)
    y_pixels = np.clip(((real_samples - y_min) * height / (y_max - y_min)).astype(int), 0, height - 1)
    mandelbrot_set[y_pixels, x_pixels] += inside

    area_estimate = (inside_count / samples) * (x_max - x_min) * (y_max - y_min)
    
    return area_estimate

samples = int(1e6)
dimensions = 2
iterations = 80
repeat_times = 100

mean_values = []
std_deviation_values = []
confidence_interval_values = []
sampling_methods = []

for sampling_method, function, params in [
    ("pure random sampling", pure_random_sampling, dict(samples=samples)),
    ("latin hypercube sampling", latin_hypercube_sampling, dict(samples=samples, dimensions=dimensions)),
    ("orthogonal sampling", orthogonal_sampling, dict(samples_per_dimension=int(samples**(1/2))))
]:
    area_estimates = []
    for _ in range(repeat_times):
        real_samples, imag_samples = function(**params)   
        area_estimate = mandelbrot_diff_sampling(iters=iterations, samples=samples,
                                               real_samples=real_samples, imag_samples=imag_samples)
        area_estimates.append(area_estimate)
        
    mean = np.mean(area_estimates)
    std_deviation = np.std(area_estimates, ddof=1)
    
    mean_values.append(mean)
    std_deviation_values.append(std_deviation)
    sampling_methods.append(sampling_method)
    
    confidence_level = 0.95
    degrees_freedom = len(area_estimates) - 1
    confidence_interval = st.norm.interval(confidence_level, loc=mean, scale=std_deviation)
    confidence_interval_values.append(confidence_interval)

    print(f"For {sampling_method}, the mean area estimate is {mean}.")
    print(f"The standard deviation is {std_deviation}.")
    print(f"{confidence_level*100}% confidence interval is {confidence_interval}.")
    
    
fig, ax = pyplot.subplots(figsize=(10, 6))

bar_positions = range(len(mean_values))
ax.bar(bar_positions, mean_values, yerr=std_deviation_values, color="lightblue", align="center", alpha=0.7, lw=2, ecolor="grey", capsize=8)
    
for i, conf_interval in enumerate(confidence_interval_values):
    ax.plot([bar_positions[i], bar_positions[i]], conf_interval, color="royalblue", marker='_', markersize=20)
    
ax.set_ylim([1.545, 1.570])
ax.set_xticks(bar_positions, sampling_methods)
ax.set_ylabel("Mandelbrot Set Area Estimate", fontsize=13)
ax.set_xlabel("Sampling Method", fontsize=13)
ax.set_title("Comparison of Mandelbrot Set Area Estimates", fontsize=18)
pyplot.tight_layout()
pyplot.savefig("sampling", dpi=300)


samples = int(1e6)
dimensions = 2
iterations = 80
repeat_times = 100
alpha = 0.001

mean_values = []
mean_values_cvg = []
sampling_methods = []

for sampling_method, function, params in [
    ("pure random sampling", pure_random_sampling, dict(samples=samples)),
    ("latin hypercube sampling", latin_hypercube_sampling, dict(samples=samples, dimensions=dimensions)),
    ("orthogonal sampling", orthogonal_sampling, dict(samples_per_dimension=int(samples**(1/2))))
]:
    area_estimates = []
    area_estimates_cvg = []
    start_time = time.time()
    for _ in range(repeat_times):
        real_samples, imag_samples = function(**params)
        area_estimate = mandelbrot_diff_sampling(iters=iterations, samples=samples,
                                               real_samples=real_samples, imag_samples=imag_samples)
       
        area_estimates.append(area_estimate)
        mean = np.mean(area_estimates)
        mean_values.append(mean)
        sampling_methods.append(sampling_method)
        
    end_time = time.time()
    elapsed_time = end_time - start_time
    
    for _ in range(repeat_times):
        real_samples, imag_samples = function(**params)
        area_estimate = mandelbrot_diff_sampling(iters=iterations, samples=samples,
                                               real_samples=real_samples, imag_samples=imag_samples)
       
        area_estimates_cvg.append(area_estimate)
        mean = np.mean(area_estimates_cvg)
        mean_values_cvg.append(mean)
        
    mean_H0 = np.mean(mean_values_cvg)
    t_statistic, p_value = st.ttest_1samp(mean_values, mean_H0)
    
    print(f"For {sampling_method}, t-statistic: {t_statistic}, p-value: {p_value}, Computation uses {elapsed_time}s.")

    if p_value < alpha:
        print(f"Reject the null hypothesis at a significance level of {alpha}.")
    else:
        print(f"Accept the null hypothesis at a significance level of {alpha}.")
